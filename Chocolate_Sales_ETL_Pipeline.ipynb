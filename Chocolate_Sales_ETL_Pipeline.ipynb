{
 "cells": [
  {
   "cell_type": "code",
   "execution_count": null,
   "id": "ec8cdfa2",
   "metadata": {},
   "outputs": [],
   "source": [
    "import pandas as pd"
   ]
  },
  {
   "cell_type": "code",
   "execution_count": null,
   "id": "415deac0",
   "metadata": {},
   "outputs": [],
   "source": [
    "df.info()"
   ]
  },
  {
   "cell_type": "markdown",
   "id": "82848878",
   "metadata": {},
   "source": [
    "# 1. Extract"
   ]
  },
  {
   "cell_type": "code",
   "execution_count": null,
   "id": "7a0c0b8c",
   "metadata": {},
   "outputs": [],
   "source": [
    "df = pd.read_csv('Chocolate_Sales.csv')\n",
    "print(\"Extracted Data:\")\n",
    "print(df.head())"
   ]
  },
  {
   "cell_type": "markdown",
   "id": "fafb140d",
   "metadata": {},
   "source": [
    "# 2. Transformation"
   ]
  },
  {
   "cell_type": "markdown",
   "id": "c8db2a8f",
   "metadata": {},
   "source": [
    "## Removing leading and trailing spaces from column names:"
   ]
  },
  {
   "cell_type": "code",
   "execution_count": null,
   "id": "8af87ca7",
   "metadata": {},
   "outputs": [],
   "source": [
    "df.columns = df.columns.str.strip()\n",
    "print(\"Transformed Data:\")\n",
    "print(df.head())"
   ]
  },
  {
   "cell_type": "markdown",
   "id": "f46ed418",
   "metadata": {},
   "source": [
    "## Removing leading and trailing spaces from string data in each column"
   ]
  },
  {
   "cell_type": "code",
   "execution_count": null,
   "id": "990ea12d",
   "metadata": {},
   "outputs": [],
   "source": [
    "df = df.applymap(lambda x: x.strip() if isinstance(x, str) else x)\n",
    "print(\"Data after removing leading and trailing spaces:\")\n",
    "print(df.head())"
   ]
  },
  {
   "cell_type": "markdown",
   "id": "7efcadef",
   "metadata": {},
   "source": [
    "## Converting the Amount column to numeric values by removing $ and , characters"
   ]
  },
  {
   "cell_type": "code",
   "execution_count": null,
   "id": "b17462dc",
   "metadata": {},
   "outputs": [],
   "source": [
    "df['Amount'] = df['Amount'].replace('[\\$,]', '', regex=True).astype(float)\n",
    "print(\"Data after converting 'Amount' column to numeric:\")\n",
    "print(df.head())"
   ]
  },
  {
   "cell_type": "markdown",
   "id": "d0feda38",
   "metadata": {},
   "source": [
    "## Converting the Date column to datetime format"
   ]
  },
  {
   "cell_type": "code",
   "execution_count": null,
   "id": "07e41dfd",
   "metadata": {},
   "outputs": [],
   "source": [
    "sdf['Date'] = pd.to_datetime(df['Date'], format='%d-%b-%y')\n",
    "print(\"Data after converting 'Date' column to datetime:\")\n",
    "print(df.head())"
   ]
  },
  {
   "cell_type": "markdown",
   "id": "6f41b0d3",
   "metadata": {},
   "source": [
    "# 3. Loading"
   ]
  },
  {
   "cell_type": "code",
   "execution_count": null,
   "id": "039a6ee7",
   "metadata": {},
   "outputs": [],
   "source": [
    "df.to_csv('Chocolate_Sales_Cleaned.csv', index=False)\n",
    "print(\"\\nTransformed Data:\")\n",
    "print(df.head())\n",
    "print(\"\\nThe cleaned and transformed data has been saved to 'Chocolate_Sales_Cleaned.csv'.\")\n"
   ]
  },
  {
   "cell_type": "markdown",
   "id": "9b1b9236",
   "metadata": {},
   "source": [
    "# 4. ETL Pipeline"
   ]
  },
  {
   "cell_type": "code",
   "execution_count": 29,
   "id": "2d24d586",
   "metadata": {},
   "outputs": [
    {
     "name": "stdout",
     "output_type": "stream",
     "text": [
      "Extracted Data:\n",
      "     Sales Person    Country              Product       Date    Amount  \\\n",
      "0  Jehu Rudeforth         UK      Mint Chip Choco  04-Jan-22   $5,320    \n",
      "1     Van Tuxwell      India        85% Dark Bars  01-Aug-22   $7,896    \n",
      "2    Gigi Bohling      India  Peanut Butter Cubes  07-Jul-22   $4,501    \n",
      "3    Jan Morforth  Australia  Peanut Butter Cubes  27-Apr-22  $12,726    \n",
      "4  Jehu Rudeforth         UK  Peanut Butter Cubes  24-Feb-22  $13,685    \n",
      "\n",
      "   Boxes Shipped  \n",
      "0            180  \n",
      "1             94  \n",
      "2             91  \n",
      "3            342  \n",
      "4            184  \n",
      "\n",
      "Transformed Data:\n",
      "     Sales Person    Country              Product       Date   Amount  \\\n",
      "0  Jehu Rudeforth         UK      Mint Chip Choco 2022-01-04   5320.0   \n",
      "1     Van Tuxwell      India        85% Dark Bars 2022-08-01   7896.0   \n",
      "2    Gigi Bohling      India  Peanut Butter Cubes 2022-07-07   4501.0   \n",
      "3    Jan Morforth  Australia  Peanut Butter Cubes 2022-04-27  12726.0   \n",
      "4  Jehu Rudeforth         UK  Peanut Butter Cubes 2022-02-24  13685.0   \n",
      "\n",
      "   Boxes Shipped  \n",
      "0            180  \n",
      "1             94  \n",
      "2             91  \n",
      "3            342  \n",
      "4            184  \n",
      "\n",
      "The cleaned and transformed data has been saved to 'Chocolate_Sales_Cleaned.csv'.\n"
     ]
    },
    {
     "name": "stderr",
     "output_type": "stream",
     "text": [
      "C:\\Users\\Capaciti\\AppData\\Local\\Temp\\ipykernel_4992\\2990527920.py:12: FutureWarning: DataFrame.applymap has been deprecated. Use DataFrame.map instead.\n",
      "  df = df.applymap(lambda x: x.strip() if isinstance(x, str) else x)\n"
     ]
    }
   ],
   "source": [
    "\n",
    "input_file_path = 'Chocolate_Sales.csv'\n",
    "output_file_path = 'Chocolate_Sales_Cleaned.csv'\n",
    "etl_pipeline(input_file_path, output_file_path)\n"
   ]
  }
 ],
 "metadata": {
  "kernelspec": {
   "display_name": "base",
   "language": "python",
   "name": "python3"
  },
  "language_info": {
   "codemirror_mode": {
    "name": "ipython",
    "version": 3
   },
   "file_extension": ".py",
   "mimetype": "text/x-python",
   "name": "python",
   "nbconvert_exporter": "python",
   "pygments_lexer": "ipython3",
   "version": "3.12.7"
  }
 },
 "nbformat": 4,
 "nbformat_minor": 5
}
